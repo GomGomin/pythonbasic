{
  "nbformat": 4,
  "nbformat_minor": 0,
  "metadata": {
    "colab": {
      "provenance": [],
      "toc_visible": true,
      "authorship_tag": "ABX9TyO/1z+rTP+28E8Q1aI8nhEK",
      "include_colab_link": true
    },
    "kernelspec": {
      "name": "python3",
      "display_name": "Python 3"
    },
    "language_info": {
      "name": "python"
    }
  },
  "cells": [
    {
      "cell_type": "markdown",
      "metadata": {
        "id": "view-in-github",
        "colab_type": "text"
      },
      "source": [
        "<a href=\"https://colab.research.google.com/github/GomGomin/pythonbasic/blob/main/PythonDay1.ipynb\" target=\"_parent\"><img src=\"https://colab.research.google.com/assets/colab-badge.svg\" alt=\"Open In Colab\"/></a>"
      ]
    },
    {
      "cell_type": "code",
      "execution_count": null,
      "metadata": {
        "colab": {
          "base_uri": "https://localhost:8080/"
        },
        "id": "gJzBigvSlarl",
        "outputId": "d9fe7b6d-c8e5-4286-efb7-f833c0542b81"
      },
      "outputs": [
        {
          "output_type": "stream",
          "name": "stdout",
          "text": [
            "hi\n"
          ]
        }
      ],
      "source": [
        "#파이썬은 자바와는 달리 자료형 선언을 하지 않아도 알아서 데이터에 맞게 타입을 자동으로 지정한다.\n",
        "\n",
        "a=20\n",
        "b=\"Hello\"\n",
        "a=\"hi\"\n",
        "\n",
        "print(a)"
      ]
    },
    {
      "cell_type": "code",
      "source": [
        "# 정수형 자료형\n",
        "\n",
        "a = 100\n",
        "b = -123\n",
        "c = 0"
      ],
      "metadata": {
        "id": "DK5vsbYppcx-"
      },
      "execution_count": null,
      "outputs": []
    },
    {
      "cell_type": "code",
      "source": [
        "# 실수형 자료형\n",
        "a = 3.14\n",
        "b = -5.16\n"
      ],
      "metadata": {
        "id": "IJd8WGTxqTkM"
      },
      "execution_count": null,
      "outputs": []
    },
    {
      "cell_type": "code",
      "source": [
        "#숫자형 자료형에서의 연산\n",
        "\n",
        "a = 3\n",
        "b = 4\n",
        "\n",
        "#코랩에서는 print를 생략해도 알아서 넣어준다.\n",
        "a + b\n",
        "a - b\n",
        "\n",
        "-1"
      ],
      "metadata": {
        "colab": {
          "base_uri": "https://localhost:8080/"
        },
        "id": "nRlXyAYxq5vH",
        "outputId": "324ff53b-c9b8-4335-c3e6-03d955d8cc80"
      },
      "execution_count": null,
      "outputs": [
        {
          "output_type": "execute_result",
          "data": {
            "text/plain": [
              "-1"
            ]
          },
          "metadata": {},
          "execution_count": 8
        }
      ]
    },
    {
      "cell_type": "code",
      "source": [
        "a + b\n",
        "a - b\n",
        "\n",
        "print(a+b)\n",
        "print(a-b)\n",
        "\n",
        "#print() 구문을 생략하면 마지막 구문만 출력해주기 때문에 전부 출력하고 싶으면\n",
        "#각각 print() 구문을 다 적어야 한다. 이것은 파이썬의 특징이 아닌 코랩의 특징이다."
      ],
      "metadata": {
        "colab": {
          "base_uri": "https://localhost:8080/"
        },
        "id": "XdSbo7wurTa9",
        "outputId": "1859c75f-1193-4b91-8cc7-6f08d04dd772"
      },
      "execution_count": null,
      "outputs": [
        {
          "output_type": "stream",
          "name": "stdout",
          "text": [
            "7\n",
            "-1\n"
          ]
        }
      ]
    },
    {
      "cell_type": "code",
      "source": [
        "# 나머지 연산자 - 홀수 짝수 배수 확인\n",
        "\n",
        "5 / 2 # 일반적인 나머지 구하기"
      ],
      "metadata": {
        "colab": {
          "base_uri": "https://localhost:8080/"
        },
        "id": "BqRRC4jwr4iW",
        "outputId": "75b439d6-ba0d-4a2a-c10c-6d8d08939d02"
      },
      "execution_count": null,
      "outputs": [
        {
          "output_type": "execute_result",
          "data": {
            "text/plain": [
              "2.5"
            ]
          },
          "metadata": {},
          "execution_count": 11
        }
      ]
    },
    {
      "cell_type": "code",
      "source": [
        "5 % 2\n",
        "# 나눈 결과의 몫은 버리고 나머지만 취한다.\n",
        "# 따라서 어떤수를 2로 나눈 나머지가 0이 나오면 짝수 1이 나오면 홀수"
      ],
      "metadata": {
        "colab": {
          "base_uri": "https://localhost:8080/"
        },
        "id": "O4Wr5O3asPg6",
        "outputId": "92e55fcb-983e-47ff-e33b-44cb45e48368"
      },
      "execution_count": null,
      "outputs": [
        {
          "output_type": "execute_result",
          "data": {
            "text/plain": [
              "1"
            ]
          },
          "metadata": {},
          "execution_count": 12
        }
      ]
    },
    {
      "cell_type": "code",
      "source": [
        "8 % 2\n",
        "# 어떤수 8를 어떤 수 2로 나눈 나머지가 0이면 배수이다."
      ],
      "metadata": {
        "colab": {
          "base_uri": "https://localhost:8080/"
        },
        "id": "3RgTXx_7sl45",
        "outputId": "df8a7c8b-9abd-4cf6-ed36-d186a07a5785"
      },
      "execution_count": null,
      "outputs": [
        {
          "output_type": "execute_result",
          "data": {
            "text/plain": [
              "0"
            ]
          },
          "metadata": {},
          "execution_count": 13
        }
      ]
    },
    {
      "cell_type": "code",
      "source": [
        "# 문자열 자료형 - 파이썬에서는 \"\" 와 ''가 완전히 동일하게 사용된다.\n",
        "\n",
        "# 1 큰 따옴표\n",
        "\"Hello World\"\n",
        "\n",
        "# 2 작은 따옴표\n",
        "\"Hello World\"\n",
        "\n",
        "# 3 3 중 따옴표 Doc String\n",
        "\"\"\"Hello World\"\"\"\n",
        "'''Hello World'''"
      ],
      "metadata": {
        "colab": {
          "base_uri": "https://localhost:8080/",
          "height": 35
        },
        "id": "HOQkx4bkvvSy",
        "outputId": "f54af1ea-14cd-4e86-a4c3-917012c95267"
      },
      "execution_count": null,
      "outputs": [
        {
          "output_type": "execute_result",
          "data": {
            "text/plain": [
              "'Hello World'"
            ],
            "application/vnd.google.colaboratory.intrinsic+json": {
              "type": "string"
            }
          },
          "metadata": {},
          "execution_count": 14
        }
      ]
    },
    {
      "cell_type": "code",
      "source": [
        "# 파이썬에서는 큰 따옴표와 작은 따옴표에 전혀 차이가 없지만\n",
        "# 아래의 용도로 분리하여 사용된다\n",
        "\n",
        "\"Python'\" # 작은 따옴표 하나를 출력하기 위한 용도\n",
        "'say \"Hello\"' # 작은 따옴표 안에서 큰 따옴표를 출력하기 위한 용도"
      ],
      "metadata": {
        "colab": {
          "base_uri": "https://localhost:8080/",
          "height": 35
        },
        "id": "2CemZIWuwrXK",
        "outputId": "24fc50da-de07-478b-d7ec-c676a9d2c54d"
      },
      "execution_count": null,
      "outputs": [
        {
          "output_type": "execute_result",
          "data": {
            "text/plain": [
              "'say \"Hello\"'"
            ],
            "application/vnd.google.colaboratory.intrinsic+json": {
              "type": "string"
            }
          },
          "metadata": {},
          "execution_count": 15
        }
      ]
    },
    {
      "cell_type": "code",
      "source": [
        "# \\n 줄바꿈\n",
        "a = \"I love you\\nYou love me?\"\n",
        "print(a)\n",
        "\n",
        "b = \"\"\"I love you\n",
        "You love me?\"\"\"\n",
        "print(b)\n",
        "\n",
        "#에러 발생\n",
        "# c = \"I love you\n",
        "# You love me\""
      ],
      "metadata": {
        "colab": {
          "base_uri": "https://localhost:8080/"
        },
        "id": "qNfadXgtxI-t",
        "outputId": "af86ae27-b422-486e-c4fb-fdaa0d55808e"
      },
      "execution_count": null,
      "outputs": [
        {
          "output_type": "stream",
          "name": "stdout",
          "text": [
            "I love you\n",
            "You love me?\n",
            "I love you\n",
            "You love me?\n"
          ]
        }
      ]
    },
    {
      "cell_type": "code",
      "source": [
        "# 문자열 연산\n",
        "\n",
        "# 파이썬에서는 문자열도 연산이 가능하다. 특히 다른 언어에서는 발견하기 어려운 파이썬만의\n",
        "# 독특한 특징이다. 이런 점들이 바로 파이썬은 우리의 생각을 그대로 반영할 수 있다는 파이썬 만의\n",
        "# 장점이다.\n",
        "\n",
        "a = \"I\"\n",
        "b = \"love\"\n",
        "c = \"you\"\n",
        "\n",
        "print(a + b + c)\n",
        "\n",
        "d = \"love\"\n",
        "print(d*3)\n",
        "\n",
        "e = \"=\"\n",
        "print(e * 30)"
      ],
      "metadata": {
        "colab": {
          "base_uri": "https://localhost:8080/"
        },
        "id": "IZLCPP-TyYGS",
        "outputId": "e21f5676-d54f-4c75-a19c-724495b46013"
      },
      "execution_count": null,
      "outputs": [
        {
          "output_type": "stream",
          "name": "stdout",
          "text": [
            "Iloveyou\n",
            "lovelovelove\n",
            "==============================\n"
          ]
        }
      ]
    },
    {
      "cell_type": "code",
      "source": [
        "# 문자열 자로형에서 많이 사용되는 함수들\n",
        "\n",
        "# 1 문자열의 길이 구하기\n",
        "\n",
        "len(\"i love you\") # 빈칸도 글자 취급한다."
      ],
      "metadata": {
        "colab": {
          "base_uri": "https://localhost:8080/"
        },
        "id": "QMSS4VA30NCP",
        "outputId": "6b8c644d-9e39-457e-be0d-8e3638457c7c"
      },
      "execution_count": null,
      "outputs": [
        {
          "output_type": "execute_result",
          "data": {
            "text/plain": [
              "10"
            ]
          },
          "metadata": {},
          "execution_count": 24
        }
      ]
    },
    {
      "cell_type": "code",
      "source": [
        "# 인덱싱과 슬라이싱 indexing & slicing\n",
        "# 참고로 인덱싱과 슬라이싱은 리스트와 튜플에서도 완전히 동일하게 사용된다.\n",
        "\n",
        "# 인덱싱 - 한 개의 글자 추출\n",
        "a = 'I love You'\n",
        "print(a[0])\n",
        "print(a[9])\n",
        "print(a[-1]) # 마지막 글자 추출은 -1을 사용한다.\n",
        "print(a[-3])\n",
        "\n",
        "# 슬라이싱 - 여러개의 글자 추출\n",
        "a = 'I love you'\n",
        "print(a[2] + a[3] + a[4] + a[5])\n",
        "print(a[2:5]) # 끝자리를 나타내는 수는 미만을 의미한다.\n",
        "print(a[7:]) # 끝자리를 생략하면 끝까지 출력한다.\n",
        "print(a[:2]) # 시작 자리를 생락하면 처음 즉 0 부터 시작한다.\n",
        "print(a[:]) # 모든 자리 생략하면 처음부터 끝까지 출력한다.\n",
        "print(a[7:-1]) # 슬라이싱에서도 - 표기를 사용한다. 역시 미만으로 사용된다."
      ],
      "metadata": {
        "colab": {
          "base_uri": "https://localhost:8080/"
        },
        "id": "hdJx_Gx00ufF",
        "outputId": "c88ea102-9e65-45bd-b1c1-afe9d1cd099b"
      },
      "execution_count": null,
      "outputs": [
        {
          "output_type": "stream",
          "name": "stdout",
          "text": [
            "I\n",
            "u\n",
            "u\n",
            "Y\n",
            "love\n",
            "lov\n",
            "you\n",
            "I \n",
            "I love you\n",
            "yo\n"
          ]
        }
      ]
    },
    {
      "cell_type": "code",
      "source": [
        "# 파이썬에서 출력 방법 총 4가지\n",
        "\n",
        "# 1 문자열 포맷팅 (중요도 하)\n",
        "\n",
        "print(\"I %s you\" % \"love\")\n",
        "print(\"I ate %d apples\" % 5)\n",
        "print(\"I ate %s apples\" % 5)\n",
        "\n",
        "print(\"I %s you, I ate %s apples\" % (\"love\", 5)) \n",
        "\n",
        "# 2 format() 포맷 함수 (중요도 하)\n",
        "\n",
        "print(\"I {} you\".format(\"love\"))\n",
        "print(\"I ate {} apples\".format(5))\n",
        "print(\"I ate {} apples\".format(5))\n",
        "\n",
        "print(\"I {} you, I ate {} apples\".format(\"love\",5))"
      ],
      "metadata": {
        "colab": {
          "base_uri": "https://localhost:8080/"
        },
        "id": "zk3tIRoS7qhv",
        "outputId": "0a979865-45f4-4f0f-a915-074a9077c4f4"
      },
      "execution_count": null,
      "outputs": [
        {
          "output_type": "stream",
          "name": "stdout",
          "text": [
            "I love you\n",
            "I ate 5 apples\n",
            "I ate 5 apples\n",
            "I love you, I ate 5 apples\n",
            "I love you\n",
            "I ate 5 apples\n",
            "I ate 5 apples\n",
            "I lvoe you, I ate 5 apples\n"
          ]
        }
      ]
    },
    {
      "cell_type": "code",
      "source": [
        "# 3 f스트링 (중요도 상)\n",
        "\n",
        "a = \"love\"\n",
        "b = 5\n",
        "\n",
        "print(f\"I {a} you\")\n",
        "print(f\"I ate {b} apples\")\n",
        "print(f\"I ate {b} apples\")\n",
        "\n",
        "print(f\"I {a} you. I ate {b} apples\")"
      ],
      "metadata": {
        "colab": {
          "base_uri": "https://localhost:8080/"
        },
        "id": "_-YaVn8F-CdA",
        "outputId": "246b5c69-bb8e-4efd-ff34-be03b3621b8c"
      },
      "execution_count": null,
      "outputs": [
        {
          "output_type": "stream",
          "name": "stdout",
          "text": [
            "I love you\n",
            "I ate 5 apples\n",
            "I ate 5 apples\n",
            "I love you. I ate 5 apples\n",
            "I love you\n",
            "I 5 apples\n",
            "I ate 5 apples\n",
            "I love you. I ate 5 apples\n",
            "I  love  you\n",
            "I 5 apples\n",
            "I ate 5 apples\n",
            "I  love  you. I ate 5 apples\n"
          ]
        }
      ]
    },
    {
      "cell_type": "code",
      "source": [
        "# 4 연산자 사용\n",
        "\n",
        "a = \"love\"\n",
        "b = 5\n",
        "\n",
        "print(f\"I \" + a + \" you\")\n",
        "print(f\"I\" , b , \"apples\")\n",
        "print(f\"I ate\" , b , \"apples\")\n",
        "\n",
        "print(f\"I \" + a + \" you. I ate\" ,b , \"apples\")\n",
        "\n",
        "print(f\"I \" , a , \" you\")\n",
        "print(f\"I\" , b , \"apples\")\n",
        "print(f\"I ate\" , b , \"apples\")\n",
        "print(f\"I \" , a , \" you. I ate\" ,b , \"apples\")"
      ],
      "metadata": {
        "id": "jZ7rfwbHAKfe"
      },
      "execution_count": null,
      "outputs": []
    },
    {
      "cell_type": "code",
      "source": [
        "# 문자열 관련 자주 사용하는 함수 정리\n",
        "\n",
        "# len 문자열의 갯수 확인\n",
        "\n",
        "print(len(\"i love you\")) # 빈칸도 글자로 센다."
      ],
      "metadata": {
        "colab": {
          "base_uri": "https://localhost:8080/"
        },
        "id": "oZvyC185Ak4b",
        "outputId": "ac931b76-bcc8-4415-ddd8-f832395d174f"
      },
      "execution_count": null,
      "outputs": [
        {
          "output_type": "stream",
          "name": "stdout",
          "text": [
            "10\n"
          ]
        }
      ]
    }
  ]
}